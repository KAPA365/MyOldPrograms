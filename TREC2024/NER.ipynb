{
 "cells": [
  {
   "cell_type": "code",
   "execution_count": 1,
   "id": "2c272625-5ac9-454e-abd5-56859f75565a",
   "metadata": {},
   "outputs": [
    {
     "name": "stdout",
     "output_type": "stream",
     "text": [
      "Entities have been successfully written to NER_out.csv\n"
     ]
    }
   ],
   "source": [
    "import spacy\n",
    "import pandas as pd\n",
    "\n",
    "nlp = spacy.load(\"en_core_web_sm\")\n",
    "\n",
    "input_csv_file_path = 'test_data_10rows.csv'\n",
    "output_csv_file_path = 'NER_out.csv'\n",
    "\n",
    "df = pd.read_csv(input_csv_file_path)\n",
    "\n",
    "entity_columns = ['ORG', 'PERSON', 'GPE', 'DATE', 'TIME', 'MONEY', 'PERCENT', 'FAC', 'PRODUCT', 'EVENT', 'WORK_OF_ART', 'LAW', 'LANGUAGE', 'LOC', 'NORP', 'ORDINAL', 'CARDINAL', 'QUANTITY']\n",
    "\n",
    "for column in entity_columns:\n",
    "    df[column] = \"\"\n",
    "\n",
    "for index, row in df.iterrows():\n",
    "    text = row['Question']\n",
    "    doc = nlp(text)\n",
    "    entities = {column: [] for column in entity_columns}\n",
    "    \n",
    "    for ent in doc.ents:\n",
    "        if ent.label_ in entities:\n",
    "            entities[ent.label_].append(ent.text)\n",
    "    \n",
    "    for label, texts in entities.items():\n",
    "        df.at[index, label] = ', '.join(texts)\n",
    "\n",
    "df.to_csv(output_csv_file_path, index=False)\n",
    "\n",
    "print(f\"Entities have been successfully written to {output_csv_file_path}\")"
   ]
  },
  {
   "cell_type": "code",
   "execution_count": null,
   "id": "d4aae563-499d-44d1-8a62-ad641c0d0599",
   "metadata": {},
   "outputs": [],
   "source": []
  }
 ],
 "metadata": {
  "kernelspec": {
   "display_name": "Python 3 (ipykernel)",
   "language": "python",
   "name": "python3"
  },
  "language_info": {
   "codemirror_mode": {
    "name": "ipython",
    "version": 3
   },
   "file_extension": ".py",
   "mimetype": "text/x-python",
   "name": "python",
   "nbconvert_exporter": "python",
   "pygments_lexer": "ipython3",
   "version": "3.12.4"
  }
 },
 "nbformat": 4,
 "nbformat_minor": 5
}

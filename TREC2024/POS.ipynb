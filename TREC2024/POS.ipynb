{
 "cells": [
  {
   "cell_type": "code",
   "execution_count": 2,
   "id": "694736ed-7dab-4f73-a717-0619b2586a31",
   "metadata": {},
   "outputs": [
    {
     "name": "stdout",
     "output_type": "stream",
     "text": [
      "Updated file saved to POS_out.csv\n"
     ]
    }
   ],
   "source": [
    "import spacy\n",
    "import pandas as pd\n",
    "from collections import defaultdict\n",
    "\n",
    "# Load the spaCy model\n",
    "nlp = spacy.load(\"en_core_web_sm\")\n",
    "\n",
    "# Load the CSV file\n",
    "file_path = 'test_data_10rows.csv'\n",
    "data = pd.read_csv(file_path)\n",
    "\n",
    "# Function to perform POS tagging and return the tags\n",
    "def pos_tags(text):\n",
    "    doc = nlp(text)\n",
    "    return [(token.text, token.pos_) for token in doc]\n",
    "\n",
    "# Apply the function to the Question column and collect all unique POS tags\n",
    "data['POS_Tags'] = data['Question'].apply(pos_tags)\n",
    "\n",
    "# Collect all unique POS tags\n",
    "unique_pos_tags = set()\n",
    "for tags in data['POS_Tags']:\n",
    "    for _, pos in tags:\n",
    "        unique_pos_tags.add(pos)\n",
    "\n",
    "# Create a column for each unique POS tag\n",
    "for pos in unique_pos_tags:\n",
    "    data[pos] = \"\"\n",
    "\n",
    "# Fill the respective tokens into the appropriate columns\n",
    "for index, row in data.iterrows():\n",
    "    pos_dict = defaultdict(list)\n",
    "    for token, pos in row['POS_Tags']:\n",
    "        pos_dict[pos].append(token)\n",
    "    for pos, tokens in pos_dict.items():\n",
    "        data.at[index, pos] = ' '.join(tokens)\n",
    "\n",
    "# Drop the temporary POS_Tags column\n",
    "data.drop(columns=['POS_Tags'], inplace=True)\n",
    "\n",
    "# Save the updated DataFrame to a new CSV file\n",
    "output_file_path = 'POS_out.csv'\n",
    "data.to_csv(output_file_path, index=False)\n",
    "\n",
    "print(f\"Updated file saved to {output_file_path}\")\n"
   ]
  },
  {
   "cell_type": "code",
   "execution_count": null,
   "id": "4a122cba-aad2-4eeb-8260-3943e0dd0136",
   "metadata": {},
   "outputs": [],
   "source": []
  }
 ],
 "metadata": {
  "kernelspec": {
   "display_name": "Python 3 (ipykernel)",
   "language": "python",
   "name": "python3"
  },
  "language_info": {
   "codemirror_mode": {
    "name": "ipython",
    "version": 3
   },
   "file_extension": ".py",
   "mimetype": "text/x-python",
   "name": "python",
   "nbconvert_exporter": "python",
   "pygments_lexer": "ipython3",
   "version": "3.12.4"
  }
 },
 "nbformat": 4,
 "nbformat_minor": 5
}
